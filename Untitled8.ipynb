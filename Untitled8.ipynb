{
  "nbformat": 4,
  "nbformat_minor": 0,
  "metadata": {
    "colab": {
      "provenance": []
    },
    "kernelspec": {
      "name": "python3",
      "display_name": "Python 3"
    },
    "language_info": {
      "name": "python"
    }
  },
  "cells": [
    {
      "cell_type": "code",
      "execution_count": null,
      "metadata": {
        "colab": {
          "base_uri": "https://localhost:8080/"
        },
        "id": "yCt7TN8v9ORN",
        "outputId": "dcc6d354-a906-47e4-93c0-c6ec21481fe5"
      },
      "outputs": [
        {
          "output_type": "stream",
          "name": "stdout",
          "text": [
            "\u001b[2K     \u001b[90m━━━━━━━━━━━━━━━━━━━━━━━━━━━━━━━━━━━━━━━━\u001b[0m \u001b[32m2.2/2.2 MB\u001b[0m \u001b[31m10.3 MB/s\u001b[0m eta \u001b[36m0:00:00\u001b[0m\n",
            "\u001b[2K     \u001b[90m━━━━━━━━━━━━━━━━━━━━━━━━━━━━━━━━━━━━━━━━\u001b[0m \u001b[32m195.4/195.4 kB\u001b[0m \u001b[31m11.6 MB/s\u001b[0m eta \u001b[36m0:00:00\u001b[0m\n",
            "\u001b[2K     \u001b[90m━━━━━━━━━━━━━━━━━━━━━━━━━━━━━━━━━━━━━━━━\u001b[0m \u001b[32m258.8/258.8 kB\u001b[0m \u001b[31m13.1 MB/s\u001b[0m eta \u001b[36m0:00:00\u001b[0m\n",
            "\u001b[2K     \u001b[90m━━━━━━━━━━━━━━━━━━━━━━━━━━━━━━━━━━━━━━━━\u001b[0m \u001b[32m62.7/62.7 kB\u001b[0m \u001b[31m7.5 MB/s\u001b[0m eta \u001b[36m0:00:00\u001b[0m\n",
            "\u001b[?25h"
          ]
        }
      ],
      "source": [
        "!pip install wandb -qU"
      ]
    },
    {
      "cell_type": "code",
      "source": [
        "import wandb"
      ],
      "metadata": {
        "id": "_6rMudEJ9o1n"
      },
      "execution_count": null,
      "outputs": []
    },
    {
      "cell_type": "code",
      "source": [
        "wandb.login()"
      ],
      "metadata": {
        "colab": {
          "base_uri": "https://localhost:8080/",
          "height": 121
        },
        "id": "_rgVBkph9tSO",
        "outputId": "2643e124-67f7-48d2-cd9f-009c15cee1ce"
      },
      "execution_count": null,
      "outputs": [
        {
          "output_type": "display_data",
          "data": {
            "text/plain": [
              "<IPython.core.display.Javascript object>"
            ],
            "application/javascript": [
              "\n",
              "        window._wandbApiKey = new Promise((resolve, reject) => {\n",
              "            function loadScript(url) {\n",
              "            return new Promise(function(resolve, reject) {\n",
              "                let newScript = document.createElement(\"script\");\n",
              "                newScript.onerror = reject;\n",
              "                newScript.onload = resolve;\n",
              "                document.body.appendChild(newScript);\n",
              "                newScript.src = url;\n",
              "            });\n",
              "            }\n",
              "            loadScript(\"https://cdn.jsdelivr.net/npm/postmate/build/postmate.min.js\").then(() => {\n",
              "            const iframe = document.createElement('iframe')\n",
              "            iframe.style.cssText = \"width:0;height:0;border:none\"\n",
              "            document.body.appendChild(iframe)\n",
              "            const handshake = new Postmate({\n",
              "                container: iframe,\n",
              "                url: 'https://wandb.ai/authorize'\n",
              "            });\n",
              "            const timeout = setTimeout(() => reject(\"Couldn't auto authenticate\"), 5000)\n",
              "            handshake.then(function(child) {\n",
              "                child.on('authorize', data => {\n",
              "                    clearTimeout(timeout)\n",
              "                    resolve(data)\n",
              "                });\n",
              "            });\n",
              "            })\n",
              "        });\n",
              "    "
            ]
          },
          "metadata": {}
        },
        {
          "output_type": "stream",
          "name": "stderr",
          "text": [
            "\u001b[34m\u001b[1mwandb\u001b[0m: Logging into wandb.ai. (Learn how to deploy a W&B server locally: https://wandb.me/wandb-server)\n",
            "\u001b[34m\u001b[1mwandb\u001b[0m: You can find your API key in your browser here: https://wandb.ai/authorize\n",
            "wandb: Paste an API key from your profile and hit enter, or press ctrl+c to quit:"
          ]
        },
        {
          "name": "stdout",
          "output_type": "stream",
          "text": [
            " ··········\n"
          ]
        },
        {
          "output_type": "stream",
          "name": "stderr",
          "text": [
            "\u001b[34m\u001b[1mwandb\u001b[0m: Appending key for api.wandb.ai to your netrc file: /root/.netrc\n"
          ]
        },
        {
          "output_type": "execute_result",
          "data": {
            "text/plain": [
              "True"
            ]
          },
          "metadata": {},
          "execution_count": 3
        }
      ]
    },
    {
      "cell_type": "code",
      "source": [
        "from keras.datasets import fashion_mnist\n",
        "import numpy as np\n",
        "import matplotlib.pyplot as plt\n",
        "import copy\n",
        "#wandb.init(project='Assignment 1')\n",
        "(train_image, train_class),(test_image, test_class) = fashion_mnist.load_data()\n",
        "label_class=['T-shirt/top','Trouser','Pullover','Dress','Coat','Sandal','Shirt','Sneaker','Bag','Ankle boot']\n",
        "images=[]\n",
        "\n",
        "for i in range(10):\n",
        "  for j in range(train_image.shape[0]):\n",
        "    if(train_class[j]==i):\n",
        "      images.append(train_image[j])\n",
        "      break\n",
        "  plt.subplot(2,5,i+1)\n",
        "  plt.imshow(images[i],cmap='gist_gray',vmin=0,vmax=255)\n",
        "  #wandb.log({\"one sample image from each class displayed\":[wandb.Image(images[i],caption=label_class[i])]})\n",
        "\n",
        "\n",
        "\n"
      ],
      "metadata": {
        "colab": {
          "base_uri": "https://localhost:8080/",
          "height": 351
        },
        "id": "3TTGmIlP-yH6",
        "outputId": "2ffb3620-abf2-4e2e-b44e-6c14ee237566"
      },
      "execution_count": 154,
      "outputs": [
        {
          "output_type": "display_data",
          "data": {
            "text/plain": [
              "<Figure size 640x480 with 10 Axes>"
            ],
            "image/png": "[encoded data removed]"
          },
          "metadata": {}
        }
      ]
    },
    {
      "cell_type": "code",
      "source": [
        "class ActivationFunctions:\n",
        "  def sigmoid(self,u):\n",
        "    x=[]\n",
        "    for i in u:\n",
        "      if i>200:\n",
        "        x.append(1)\n",
        "      elif i< -200:\n",
        "        x.append(0)\n",
        "      else :\n",
        "        x.append(1/(1+np.exp(-i)))\n",
        "    return np.array(x)\n",
        "\n",
        "\n",
        "  def sigmoidGrad(self,u):\n",
        "    f=self.sigmoid(u)\n",
        "    return f*(1-f)\n",
        "\n",
        "  def tanh(self,u):\n",
        "    return np.tanh(u)\n",
        "\n",
        "  def tanhGrad(self,u):\n",
        "    return (1-np.square(np.tanh(u)))\n",
        "\n",
        "  def relu(self,u):\n",
        "    return np.maximum(0,u)\n",
        "\n",
        "  def reluGrad(self,u):\n",
        "    return 1*(u>0)\n",
        "\n",
        "  def softmax(self,u):\n",
        "    x=np.exp(u-np.max(u))\n",
        "    return x/np.sum(x)"
      ],
      "metadata": {
        "id": "80Z_f6bXu9Q7"
      },
      "execution_count": 155,
      "outputs": []
    },
    {
      "cell_type": "code",
      "source": [
        "class NeuralNetwork:\n",
        "  def Normalizematrix(self,mat):\n",
        "    rn = np.linalg.norm(mat, axis=1, ord=2)\n",
        "    rn[rn == 0] = 1\n",
        "    return (mat / rn[:, np.newaxis])\n",
        "  def NormalizeVector(self,vec):\n",
        "    nr = np.linalg.norm(vec, ord=2)\n",
        "    if nr==0:\n",
        "      return vec\n",
        "    else:\n",
        "      return (vec/nr)\n",
        "\n",
        "  def forwardPropagation(self,layer_objects,input1):\n",
        "    x=ActivationFunctions()\n",
        "    for i in range(len(layer_objects)-1):\n",
        "      if i==0:\n",
        "        layer_objects[i].a=layer_objects[i].b+np.dot(layer_objects[i].w,input1)\n",
        "        if layer_objects[i].activationFunction=='sigmoid':\n",
        "          layer_objects[i].h=x.sigmoid(layer_objects[i].a)\n",
        "        if layer_objects[i].activationFunction=='tanh':\n",
        "          layer_objects[i].h=x.tanh(layer_objects[i].a)\n",
        "        if layer_objects[i].activationFunction=='relu':\n",
        "          layer_objects[i].h=x.relu(layer_objects[i].a)\n",
        "      else:\n",
        "        layer_objects[i].a=layer_objects[i].b+np.matmul(layer_objects[i].w,layer_objects[i-1].h)\n",
        "        if layer_objects[i].activationFunction=='sigmoid':\n",
        "          layer_objects[i].h=x.sigmoid(layer_objects[i].a)\n",
        "        if layer_objects[i].activationFunction=='tanh':\n",
        "          layer_objects[i].h=x.tanh(layer_objects[i].a)\n",
        "        if layer_objects[i].activationFunction=='relu':\n",
        "          layer_objects[i].h=x.relu(layer_objects[i].a)\n",
        "    layer_objects[len(layer_objects)-1].a=layer_objects[len(layer_objects)-1].b+np.dot(layer_objects[len(layer_objects)-1].w,layer_objects[len(layer_objects)-2].h)\n",
        "    layer_objects[len(layer_objects)-1].h=x.softmax(layer_objects[len(layer_objects)-1].a)\n",
        "    return layer_objects\n",
        "\n",
        "  def backPropagation(self,layer_objects,input1,output):\n",
        "    x=ActivationFunctions()\n",
        "    one_hot=np.zeros(layer_objects[len(layer_objects)-1].numberOfNeuronPerLayer)\n",
        "    one_hot[output]=1\n",
        "    layer_objects[len(layer_objects)-1].grad_a=layer_objects[len(layer_objects)-1].h-one_hot\n",
        "    for k in range(len(layer_objects)-1,-1,-1):\n",
        "      if k==0:\n",
        "        layer_objects[k].gradw=np.outer(layer_objects[k].grad_a,input1)\n",
        "      else:\n",
        "        layer_objects[k].gradw=np.outer(layer_objects[k].grad_a,layer_objects[k-1].h)\n",
        "      layer_objects[k].gradb=layer_objects[k].grad_a\n",
        "      if k>0:\n",
        "        layer_objects[k-1].grad_h=np.matmul(layer_objects[k].w.T,layer_objects[k].grad_a)\n",
        "        if layer_objects[k].activationFunction=='sigmoid':\n",
        "          layer_objects[k-1].grad_a=layer_objects[k-1].grad_h * (x.sigmoidGrad(layer_objects[k-1].a))\n",
        "        if layer_objects[k].activationFunction=='tanh':\n",
        "          layer_objects[k-1].grad_a=layer_objects[k-1].grad_h * (x.tanhGrad(layer_objects[k-1].a))\n",
        "        if layer_objects[k].activationFunction=='relu':\n",
        "          layer_objects[k-1].grad_a=layer_objects[k-1].grad_h * (x.reluGrad(layer_objects[k-1].a))\n",
        "    return layer_objects\n",
        "\n",
        "  def schotastic_gradient_descent(self,layer_objects,max_epoch,train_image,train_class,layer_objects_grad,batch_size):\n",
        "    eta=0.01\n",
        "    for i in range(max_epoch):\n",
        "      for i in range(len(layer_objects)):\n",
        "        layer_objects[i].initialize_gradient()\n",
        "        layer_objects_grad[i].initialize_gradient()\n",
        "      count=1\n",
        "      for x,y in zip(train_image,train_class):\n",
        "        layer_objects=self.forwardPropagation(layer_objects,x)\n",
        "        layer_objects=self.backPropagation(layer_objects,x,y)\n",
        "        for i in range(len(layer_objects)):\n",
        "          layer_objects_grad[i].gradw=layer_objects_grad[i].gradw+layer_objects[i].gradw\n",
        "          layer_objects_grad[i].gradb=layer_objects_grad[i].gradb+layer_objects[i].gradb\n",
        "        if count %batch_size==0:\n",
        "          for i in range(len(layer_objects)):\n",
        "            #layer_objects_grad[i].gradw=self.Normalizematrix(layer_objects_grad[i].gradw)\n",
        "            #layer_objects_grad[i].gradb=self.NormalizeVector(layer_objects_grad[i].gradb)\n",
        "            layer_objects[i].w=layer_objects[i].w-eta*layer_objects_grad[i].gradw\n",
        "            layer_objects[i].b=layer_objects[i].b-eta*layer_objects_grad[i].gradb\n",
        "            layer_objects_grad[i].initialize_gradient()\n",
        "        count=count+1\n",
        "    return layer_objects\n",
        "\n",
        "  def momentum_Gradient_descent(self,layer_objects,max_epoch,train_image,train_class,layer_objects_grad,batch_size):\n",
        "    eta,beta=1e-2,0.9\n",
        "    layer_object2=[]\n",
        "    for i in range(len(layer_objects)):\n",
        "      layer_object2.append(copy.deepcopy(layer_objects[i]))\n",
        "    for i in range(max_epoch):\n",
        "      for i in range(len(layer_objects)):\n",
        "        layer_objects[i].initialize_gradient()\n",
        "        layer_object2[i].initialize_gradient()\n",
        "        layer_objects_grad[i].initialize_gradient()\n",
        "        count=1\n",
        "      for x,y in zip(train_image,train_class):\n",
        "        layer_objects=self.forwardPropagation(layer_objects,x)\n",
        "        layer_objects=self.backPropagation(layer_objects,x,y)\n",
        "        for i in range(len(layer_objects)):\n",
        "          layer_objects_grad[i].gradw=layer_objects_grad[i].gradw+layer_objects[i].gradw\n",
        "          layer_objects_grad[i].gradb=layer_objects_grad[i].gradb+layer_objects[i].gradb\n",
        "        if count % batch_size ==0 :\n",
        "          for i in range(len(layer_objects)):\n",
        "            layer_objects[i].w=layer_objects[i].w-beta*layer_object2[i].gradw-eta*layer_objects_grad[i].gradw\n",
        "            layer_objects[i].b=layer_objects[i].b-beta*layer_object2[i].gradb-eta*layer_objects_grad[i].gradb\n",
        "            layer_object2[i].gradw=beta*layer_object2[i].gradw+eta*layer_objects_grad[i].gradw\n",
        "            layer_object2[i].gradb=beta*layer_object2[i].gradb+eta*layer_objects_grad[i].gradb\n",
        "            layer_objects_grad[i].initialize_gradient()\n",
        "        count=count+1\n",
        "    return layer_objects\n",
        "\n",
        "  def Nestrov_gradient_descent(self,layer_objects,max_epoch,train_image,train_class,layer_objects_grad,batch_size):\n",
        "    eta,beta=0.1,0.9\n",
        "    layer_object2=[]\n",
        "    layer_object1=[]\n",
        "    for i in range(len(layer_objects)):\n",
        "      layer_object1.append(layer_objects[i])\n",
        "      layer_object2.append(layer_objects[i])\n",
        "    for i in range(max_epoch):\n",
        "      for i in range(len(layer_objects)):\n",
        "        layer_objects[i].initialize_gradient()\n",
        "        layer_object2[i].initialize_gradient()\n",
        "        layer_object1[i].initialize_gradient()\n",
        "      for i in range(len(layer_objects)):\n",
        "\n",
        "        count=1\n",
        "      for x,y in zip(train_image,train_class):\n",
        "        layer_objects=self.forwardPropagation(layer_objects,x)\n",
        "        layer_objects=self.backPropagation(layer_objects,x,y)\n",
        "        for i in range(len(layer_objects)):\n",
        "          layer_objects_grad[i].gradw=layer_objects_grad[i].gradw+layer_objects[i].gradw\n",
        "          layer_objects_grad[i].gradb=layer_objects_grad[i].gradb+layer_objects[i].gradb\n",
        "        if count % batch_size ==0 :\n",
        "          for i in range(len(layer_objects)):\n",
        "            layer_objects[i].w=layer_objects[i].w-beta*layer_object2[i].w-eta*layer_objects_grad[i].gradw\n",
        "            layer_objects[i].b=layer_objects[i].b-beta*layer_object2[i].b-eta*layer_objects_grad[i].gradb\n",
        "            layer_object2[i].w=layer_objects[i].w\n",
        "            layer_object2[i].b=layer_objects[i].b\n",
        "            layer_objects_grad[i].initialize_gradient()\n",
        "\n",
        "    return layer_objects\n",
        "\n",
        "  def RmsProf(self,layer_objects,max_epoch,train_image,train_class,layer_objects_grad,batch_size):\n",
        "    beta,eta,eps=0.5,0.1,1e-8\n",
        "    history=[]\n",
        "    for i in range(len(layer_objects)):\n",
        "      history.append(copy.deepcopy(layer_objects[i]))\n",
        "      history[i].initialize_gradient()\n",
        "    for i in range(max_epoch):\n",
        "      for j in range(len(layer_objects)):\n",
        "        layer_objects[j].initialize_gradient()\n",
        "        layer_objects_grad[j].initialize_gradient()\n",
        "        #layer_objects_grad[j].initialize_gradient()\n",
        "      count=1\n",
        "      for x,y in zip(train_image,train_class):\n",
        "        layer_objects=self.forwardPropagation(layer_objects,x)\n",
        "        layer_objects=self.backPropagation(layer_objects,x,y)\n",
        "        for i in range(len(layer_objects)):\n",
        "          layer_objects_grad[i].gradw=layer_objects_grad[i].gradw+layer_objects[i].gradw\n",
        "          layer_objects_grad[i].gradb=layer_objects_grad[i].gradb+layer_objects[i].gradb\n",
        "        if count %batch_size==0:\n",
        "          for i in range(len(layer_objects)):\n",
        "            history[i].gradw=beta*history[i].gradw+(1-beta)*np.square(layer_objects_grad[i].gradw)\n",
        "            history[i].gradb=beta*history[i].gradb+(1-beta)*np.square(layer_objects_grad[i].gradb)\n",
        "            layer_objects[i].w=layer_objects[i].w-((eta*layer_objects_grad[i].gradw)/(np.sqrt((history[i].gradw+eps))))\n",
        "            layer_objects[i].b=layer_objects[i].b-((eta*layer_objects_grad[i].gradb)/(np.sqrt((history[i].gradb+eps))))\n",
        "            layer_objects_grad[i].initialize_gradient()\n",
        "        count=count+1\n",
        "    return layer_objects\n",
        "\n",
        "  def Adam_gradient_descent(self,layer_objects,max_epoch,train_image,train_class,layer_objects_grad,batch_size):\n",
        "    beta,eta,eps=0.5,0.1,1e-10\n",
        "    beta1,beta2=0.9,0.999\n",
        "    history1=[]\n",
        "    history2=[]\n",
        "    for i in range(len(layer_objects)):\n",
        "      history1.append(copy.deepcopy(layer_objects[i]))\n",
        "      history2.append(copy.deepcopy(layer_objects[i]))\n",
        "      history1[i].initialize_gradient()\n",
        "      history2[i].initialize_gradient()\n",
        "    '''for l in history2:\n",
        "      print(l.w)\n",
        "      print(l.b)'''\n",
        "    for i1 in range(max_epoch):\n",
        "      for j in range(len(layer_objects)):\n",
        "        layer_objects[j].initialize_gradient()\n",
        "        layer_objects_grad[j].initialize_gradient()\n",
        "\n",
        "        #layer_objects_grad[j].initialize_gradient()\n",
        "      count=1\n",
        "      for x,y in zip(train_image,train_class):\n",
        "        layer_objects=self.forwardPropagation(layer_objects,x)\n",
        "        layer_objects=self.backPropagation(layer_objects,x,y)\n",
        "        for i in range(len(layer_objects)):\n",
        "          layer_objects_grad[i].gradw=layer_objects_grad[i].gradw+layer_objects[i].gradw\n",
        "          layer_objects_grad[i].gradb=layer_objects_grad[i].gradb+layer_objects[i].gradb\n",
        "        if count %batch_size==1:\n",
        "          for i in range(len(layer_objects)-2):\n",
        "            history1[i].gradw=beta1*history1[i].gradw+(1-beta1)*layer_objects_grad[i].gradw\n",
        "            history1[i].gradb=beta1*history1[i].gradb+(1-beta1)*layer_objects_grad[i].gradb\n",
        "            history2[i].gradw=beta2*history2[i].gradw+(1-beta2)*np.square(layer_objects_grad[i].gradw)\n",
        "            history2[i].gradb=beta2*history2[i].gradb+(1-beta2)*np.square(layer_objects_grad[i].gradb)\n",
        "            mw_hat=history1[i].gradw/(1-np.power(beta1,i1+1))\n",
        "            mb_hat=history1[i].gradb/(1-np.power(beta1,i1+1))\n",
        "            vw_hat=history2[i].gradw/(1-np.power(beta2,i1+1))\n",
        "            vb_hat=history2[i].gradb/(1-np.power(beta2,i1+1))\n",
        "            #print(vw_hat+eps)\n",
        "            #print(vb_hat+eps)\n",
        "            layer_objects[i].w=layer_objects[i].w-(eta*mw_hat)/(np.sqrt(vw_hat+eps))\n",
        "            layer_objects[i].b=layer_objects[i].b-(eta*mb_hat)/(np.sqrt(vb_hat+eps))\n",
        "            layer_objects_grad[i].initialize_gradient()\n",
        "        count=count+1\n",
        "    return layer_objects\n",
        "\n",
        "\n",
        "\n",
        "\n",
        "\n",
        "\n",
        "\n",
        "\n",
        "\n",
        "\n",
        "\n",
        "\n",
        "\n",
        "\n"
      ],
      "metadata": {
        "id": "1UFmSXQCePEZ"
      },
      "execution_count": 156,
      "outputs": []
    },
    {
      "cell_type": "code",
      "source": [
        "layer_objects=[1,2,3,4]\n",
        "for k in range(len(layer_objects)-1,-1,-1):\n",
        "  print(k)"
      ],
      "metadata": {
        "colab": {
          "base_uri": "https://localhost:8080/"
        },
        "id": "waOkTHlPo1k_",
        "outputId": "65e2c80a-c767-477e-b069-d0f82de7e7df"
      },
      "execution_count": null,
      "outputs": [
        {
          "output_type": "stream",
          "name": "stdout",
          "text": [
            "3\n",
            "2\n",
            "1\n",
            "0\n"
          ]
        }
      ]
    },
    {
      "cell_type": "code",
      "source": [
        "class TestingModel:\n",
        "  def zeroOneModel(self,Y_pred,Y_test):\n",
        "    return np.mean(Y_pred==Y_test)\n",
        "  def CalculateTest(self,layer_object,test_image):\n",
        "    x=NeuralNetwork()\n",
        "    output=[]\n",
        "    for tt in test_image:\n",
        "      ls=x.forwardPropagation(layer_object,tt)\n",
        "      output.append(np.argmax(ls[len(ls)-1].h))\n",
        "    return output\n",
        "\n"
      ],
      "metadata": {
        "id": "y7v0g6RFQYKi"
      },
      "execution_count": 157,
      "outputs": []
    },
    {
      "cell_type": "code",
      "source": [
        "class PreActivation:\n",
        "  def linearPreactivation(self,w,b,u):\n",
        "    return b+np.dot(w,b)"
      ],
      "metadata": {
        "id": "gXlvjRcAMwvd"
      },
      "execution_count": 158,
      "outputs": []
    },
    {
      "cell_type": "code",
      "source": [
        "class layer:\n",
        "  def __init__(self,numberOfNeuronPerLayer,numberOfNeuronPrevLayer,initializer_type,activationFunction='None'):\n",
        "    self.numberOfNeuronPerLayer=numberOfNeuronPerLayer\n",
        "    self.activationFunction=activationFunction\n",
        "    self.w=np.zeros(shape=(numberOfNeuronPerLayer,numberOfNeuronPrevLayer),dtype=np.float128)\n",
        "    self.gradw=np.zeros(shape=(numberOfNeuronPerLayer,numberOfNeuronPrevLayer),dtype=np.float128)\n",
        "    self.b=np.zeros(shape=(numberOfNeuronPerLayer),dtype=np.float128)\n",
        "    self.gradb=np.zeros(shape=(numberOfNeuronPerLayer),dtype=np.float128)\n",
        "    self.a=np.zeros(shape=(numberOfNeuronPerLayer),dtype=np.float128)\n",
        "    self.grad_a=np.zeros(shape=(numberOfNeuronPerLayer),dtype=np.float128)\n",
        "    self.h=np.zeros(shape=(numberOfNeuronPerLayer),dtype=np.float128)\n",
        "    self.grad_h=np.zeros(shape=(numberOfNeuronPerLayer),dtype=np.float128)\n",
        "    self.initialize_parameter(initializer_type)\n",
        "  def initialize_gradient(self):\n",
        "    self.gradw=np.zeros_like(self.gradw)\n",
        "    self.gradb=np.zeros_like(self.gradb)\n",
        "    self.grad_a=np.zeros_like(self.grad_a)\n",
        "    self.grad_h=np.zeros_like(self.grad_h)\n",
        "\n",
        "  def initialize_parameter(self,type='None'):\n",
        "    if type=='random':\n",
        "      self.w=np.random.randn(self.w.shape[0],self.w.shape[1])\n",
        "    elif type == 'Xavier_Normal':\n",
        "      self.w=np.random.normal(scale=np.sqrt(2/(self.w.shape[0]+self.w.shape[1])),size=(self.w.shape[0],self.w.shape[1]))\n",
        "    elif type == 'Xavier_Uniform':\n",
        "      self.w=np.random.uniform(low=-np.sqrt(6/(self.w.shape[0]+self.w.shape[1])), high=np.sqrt(6/(self.w.shape[0]+self.w.shape[1])),size=((self.w.shape[0],self.w.shape[1])))\n",
        "\n",
        "  def fun(self):\n",
        "    print(self.numberOfNeuronPerLayer)\n",
        "    print(self.activationFunction)\n",
        "    print(self.w)\n",
        "\n",
        "\n",
        "\n",
        "def main():\n",
        "  numberOfLayer=3\n",
        "  numberOfNeuronPerLayer=32\n",
        "  numberOfNeuronOutputLayer=10\n",
        "  activationFunction='sigmoid'\n",
        "  initializer_type='random'\n",
        "  train_image1=train_image.reshape(train_image.shape[0],-1)\n",
        "  train_image1=train_image1/256\n",
        "  test_image1=test_image.reshape(test_image.shape[0],-1)\n",
        "  test_image1=test_image1/256\n",
        "  train_image2=train_image1[0:1]\n",
        "  train_class2=train_class[0:1]\n",
        "  numberOfNeuronPrevLayer=train_image1.shape[1]\n",
        "  layer_objects=[]\n",
        "  layer_objects_grad=[]\n",
        "  for i in range(numberOfLayer):\n",
        "    if i ==numberOfLayer-1 :\n",
        "      layer_object=layer(numberOfNeuronOutputLayer,numberOfNeuronPrevLayer,initializer_type,activationFunction)\n",
        "      layer_objects.append(layer_object)\n",
        "      layer_objects_grad.append(copy.deepcopy(layer_object))\n",
        "    else:\n",
        "      layer_object=layer(numberOfNeuronPerLayer,numberOfNeuronPrevLayer,initializer_type,activationFunction)\n",
        "      layer_objects.append(layer_object)\n",
        "      layer_objects_grad.append(copy.deepcopy(layer_object))\n",
        "      numberOfNeuronPrevLayer=numberOfNeuronPerLayer\n",
        "  trainer=NeuralNetwork()\n",
        "  layer_objects=trainer.Adam_gradient_descent(layer_objects,5,train_image1,train_class,layer_objects_grad,32)\n",
        "  test=TestingModel()\n",
        "  output=test.CalculateTest(layer_objects,test_image1)\n",
        "  accuracy=test.zeroOneModel(output,test_class)\n",
        "  print(accuracy)\n",
        "  #print(train_image1.shape)\n",
        "\n",
        "\n",
        "if __name__ == \"__main__\":\n",
        "  main()\n",
        "\n"
      ],
      "metadata": {
        "id": "yHHienlZ6qvy"
      },
      "execution_count": null,
      "outputs": []
    }
  ]
}